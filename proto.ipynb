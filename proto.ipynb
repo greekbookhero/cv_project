{
 "cells": [
  {
   "cell_type": "code",
   "execution_count": 2,
   "metadata": {},
   "outputs": [],
   "source": [
    "import cv2 as cv\n",
    "import numpy as np\n",
    "import math\n",
    "import random as rng\n",
    "import matplotlib.pyplot as plt\n",
    "import imutils\n",
    "import math\n",
    "\n",
    "img = cv.imread('./10.jpg')\n",
    "gray = cv.cvtColor(img, cv.COLOR_BGR2GRAY)\n",
    "\n",
    "gray = cv.medianBlur(gray, 7)\n",
    "circles = cv.HoughCircles(gray, cv.HOUGH_GRADIENT, 1.2, 100)\n",
    "\n",
    "if circles is not None:\n",
    "    circles = np.round(circles[0, :]).astype(\"int\")\n",
    "    for (x, y, r) in circles:\n",
    "        # To draw circles\n",
    "        # cv.circle(img, (x, y), r, (0, 255, 0), 2)\n",
    "        crop_img = img[y-r:y+r, x-r:x+r]\n",
    "\n",
    "cv.imshow('detected circles', img)\n",
    "cv.imshow('detected circles crop', crop_img)\n",
    "cv.waitKey(0)\n",
    "cv.destroyAllWindows()"
   ]
  },
  {
   "cell_type": "code",
   "execution_count": 9,
   "metadata": {},
   "outputs": [],
   "source": [
    "crop_img_gray = cv.cvtColor(crop_img, cv.COLOR_BGR2GRAY)\n",
    "crop_img_gray = cv.medianBlur(crop_img_gray, 7)\n",
    "crop_img_edges = cv.Canny(crop_img_gray, 50, 200)\n",
    "\n",
    "font = cv.FONT_HERSHEY_SIMPLEX\n",
    "\n",
    "crop_img_copy = crop_img.copy()\n",
    "\n",
    "fontScale = 1\n",
    "\n",
    "threshold = 15\n",
    "linesP = cv.HoughLinesP(crop_img_edges, 1, np.pi / 180, threshold, np.array([]), 110, 20)\n",
    "\n",
    "color = (0, 0, 0)\n",
    "thickness = 2\n",
    "\n",
    "def convertToTime(x1, y1, x2, y2):\n",
    "    degree = math.atan2((x1 - x2), (y1 - y2)) * 180 / math.pi % 360\n",
    "    return int(degree / 360 * 12)\n",
    "\n",
    "if linesP is not None:\n",
    "    for i in range(0, len(linesP)):\n",
    "        l = linesP[i][0]\n",
    "        x1, y1, x2, y2 = l\n",
    "        org = (x1, y1)\n",
    "        time = convertToTime(x1, y1, x2, y2)\n",
    "        cv.putText(crop_img_copy, str(time), org, font, fontScale, color, thickness, cv.LINE_AA)\n",
    "        cv.line(crop_img_copy, (x1, y1), (x2, y2), (0,0,255), 1, cv.LINE_AA)\n",
    "\n",
    "cv.imshow('detected circles', crop_img_copy)\n",
    "cv.imshow('detected circles bin', crop_img_edges)\n",
    "cv.waitKey(0)\n",
    "cv.destroyAllWindows()"
   ]
  }
 ],
 "metadata": {
  "kernelspec": {
   "display_name": "Python 3",
   "language": "python",
   "name": "python3"
  },
  "language_info": {
   "codemirror_mode": {
    "name": "ipython",
    "version": 3
   },
   "file_extension": ".py",
   "mimetype": "text/x-python",
   "name": "python",
   "nbconvert_exporter": "python",
   "pygments_lexer": "ipython3",
   "version": "3.9.2"
  }
 },
 "nbformat": 4,
 "nbformat_minor": 2
}
