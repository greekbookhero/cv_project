{
 "cells": [
  {
   "cell_type": "code",
   "execution_count": 1,
   "metadata": {},
   "outputs": [],
   "source": [
    "import cv2 as cv\n",
    "import numpy as np\n",
    "import math\n",
    "import random as rng\n",
    "import matplotlib.pyplot as plt\n",
    "import imutils\n",
    "\n",
    "img = cv.imread('./7.png')\n",
    "gray = cv.cvtColor(img, cv.COLOR_BGR2GRAY)\n",
    "\n",
    "gray = cv.medianBlur(gray, 7)\n",
    "circles = cv.HoughCircles(gray, cv.HOUGH_GRADIENT, 1.2, 100)\n",
    "\n",
    "if circles is not None:\n",
    "    circles = np.round(circles[0, :]).astype(\"int\")\n",
    "    for (x, y, r) in circles:\n",
    "        # To draw circles\n",
    "        # cv.circle(img, (x, y), r, (0, 255, 0), 2)\n",
    "        crop_img = img[y-r:y+r, x-r:x+r]\n",
    "\n",
    "cv.imshow('detected circles', img)\n",
    "cv.imshow('detected circles crop', crop_img)\n",
    "cv.waitKey(0)\n",
    "cv.destroyAllWindows()"
   ]
  },
  {
   "cell_type": "code",
   "execution_count": 2,
   "metadata": {},
   "outputs": [],
   "source": [
    "crop_img_gray = cv.cvtColor(crop_img, cv.COLOR_BGR2GRAY)\n",
    "crop_img_gray = cv.medianBlur(crop_img_gray, 7)\n",
    "crop_img_edges = cv.Canny(crop_img_gray, 50, 150)\n",
    "\n",
    "crop_img_copy = crop_img.copy()\n",
    "\n",
    "threshold = 15\n",
    "linesP = cv.HoughLinesP(crop_img_edges, 1, np.pi / 180, threshold, np.array([]), 50, 20)\n",
    "\n",
    "# Для вычисления стрелок (понадобятся в след.слоте)\n",
    "lines = []\n",
    "    \n",
    "if linesP is not None:\n",
    "    for i in range(0, len(linesP)):\n",
    "        l = linesP[i][0]\n",
    "        x1, y1, x2, y2 = l\n",
    "        lines.append(l)\n",
    "        cv.line(crop_img_copy, (x1, y1), (x2, y2), (0,0,255), 1, cv.LINE_AA)\n",
    "\n",
    "cv.imshow('detected circles', crop_img_copy)\n",
    "cv.imshow('detected circles bin', crop_img_edges)\n",
    "cv.waitKey(0)\n",
    "cv.destroyAllWindows()"
   ]
  },
  {
   "cell_type": "code",
   "execution_count": 3,
   "metadata": {},
   "outputs": [
    {
     "name": "stdout",
     "output_type": "stream",
     "text": [
      "6\n",
      "6\n",
      "7\n",
      "10\n",
      "6\n",
      "11\n",
      "9\n",
      "10\n",
      "8\n",
      "9\n",
      "6\n",
      "7\n",
      "10\n",
      "11\n"
     ]
    },
    {
     "data": {
      "text/plain": [
       "[None,\n",
       " None,\n",
       " None,\n",
       " None,\n",
       " None,\n",
       " None,\n",
       " None,\n",
       " None,\n",
       " None,\n",
       " None,\n",
       " None,\n",
       " None,\n",
       " None,\n",
       " None]"
      ]
     },
     "execution_count": 3,
     "metadata": {},
     "output_type": "execute_result"
    }
   ],
   "source": [
    "import math\n",
    "\n",
    "# Это либо часовая, либо минутная, либо секундная стрелка,\n",
    "# так как пока нет четкого разделения на час, минуту или секунду\n",
    "def convertToTime(x1, y1, x2, y2):\n",
    "    degree = math.atan2((x1 - x2), (y1 - y2)) * 180 / math.pi % 360\n",
    "    return int(degree / 360 * 12)\n",
    "\n",
    "[print(convertToTime(*line)) for line in lines]"
   ]
  },
  {
   "cell_type": "code",
   "execution_count": null,
   "metadata": {},
   "outputs": [],
   "source": []
  }
 ],
 "metadata": {
  "kernelspec": {
   "display_name": "Python 3",
   "language": "python",
   "name": "python3"
  },
  "language_info": {
   "codemirror_mode": {
    "name": "ipython",
    "version": 3
   },
   "file_extension": ".py",
   "mimetype": "text/x-python",
   "name": "python",
   "nbconvert_exporter": "python",
   "pygments_lexer": "ipython3",
   "version": "3.9.2"
  }
 },
 "nbformat": 4,
 "nbformat_minor": 2
}
